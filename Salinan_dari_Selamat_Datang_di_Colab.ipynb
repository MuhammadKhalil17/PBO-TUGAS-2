{
  "cells": [
    {
      "cell_type": "markdown",
      "metadata": {
        "id": "view-in-github",
        "colab_type": "text"
      },
      "source": [
        "<a href=\"https://colab.research.google.com/github/MuhammadKhalil17/PBO-TUGAS-2/blob/main/Salinan_dari_Selamat_Datang_di_Colab.ipynb\" target=\"_parent\"><img src=\"https://colab.research.google.com/assets/colab-badge.svg\" alt=\"Open In Colab\"/></a>"
      ]
    },
    {
      "cell_type": "markdown",
      "source": [
        "LINGKARAN"
      ],
      "metadata": {
        "id": "GJ_crhjYlly6"
      }
    },
    {
      "cell_type": "code",
      "source": [
        "import math\n",
        "class Lingkaran:\n",
        "    def __init__(self, radius):\n",
        "        self.radius = radius\n",
        "\n",
        "    def buat_lingkaran(self):\n",
        "        luas = math.pi * self.radius ** 2\n",
        "        print(f\"Lingkaran dengan radius {self.radius} memiliki luas {luas:.2f}.\")\n",
        "\n",
        "# Membuat objek dari kelas Lingkaran\n",
        "blt = Lingkaran(15)\n",
        "blt.buat_lingkaran()\n"
      ],
      "metadata": {
        "id": "l1du_6UHls-p",
        "outputId": "81d4f3c6-d001-4106-e09d-b8753cef6b9e",
        "colab": {
          "base_uri": "https://localhost:8080/"
        }
      },
      "execution_count": null,
      "outputs": [
        {
          "output_type": "stream",
          "name": "stdout",
          "text": [
            "Lingkaran dengan radius 15 memiliki luas 706.86.\n"
          ]
        }
      ]
    }
  ],
  "metadata": {
    "colab": {
      "toc_visible": true,
      "provenance": [],
      "include_colab_link": true
    },
    "kernelspec": {
      "display_name": "Python 3",
      "name": "python3"
    }
  },
  "nbformat": 4,
  "nbformat_minor": 0
}