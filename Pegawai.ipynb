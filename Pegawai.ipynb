{
  "cells": [
    {
      "cell_type": "markdown",
      "metadata": {
        "id": "view-in-github",
        "colab_type": "text"
      },
      "source": [
        "<a href=\"https://colab.research.google.com/github/MuhammadKhalil17/PBO-TUGAS-2/blob/main/Pegawai.ipynb\" target=\"_parent\"><img src=\"https://colab.research.google.com/assets/colab-badge.svg\" alt=\"Open In Colab\"/></a>"
      ]
    },
    {
      "cell_type": "markdown",
      "source": [
        "# Bagian Baru"
      ],
      "metadata": {
        "id": "TBpvDW9lr9MR"
      }
    },
    {
      "cell_type": "code",
      "source": [
        "class Pegawai:\n",
        "    def __init__(self, nama, gaji):\n",
        "        self.nama = nama\n",
        "        self.gaji = gaji\n",
        "    def tampilkan_info(self):\n",
        "        print(f\"Pegawai {self.nama} memiliki gaji sebesar Rp{self.gaji:,}.\")\n",
        "\n",
        "# Membuat objek dari kelas Pegawai\n",
        "emp = Pegawai(\"Muhammad Khalil\", 1500000)\n",
        "emp.tampilkan_info()\n"
      ],
      "metadata": {
        "colab": {
          "base_uri": "https://localhost:8080/"
        },
        "id": "Kv97Pq9vu99E",
        "outputId": "f5a3b42b-3c2c-4723-942c-8b195e325358"
      },
      "execution_count": 5,
      "outputs": [
        {
          "output_type": "stream",
          "name": "stdout",
          "text": [
            "Pegawai Muhammad Khalil memiliki gaji sebesar Rp1,500,000.\n"
          ]
        }
      ]
    }
  ],
  "metadata": {
    "colab": {
      "toc_visible": true,
      "provenance": [],
      "include_colab_link": true
    },
    "kernelspec": {
      "display_name": "Python 3",
      "name": "python3"
    }
  },
  "nbformat": 4,
  "nbformat_minor": 0
}